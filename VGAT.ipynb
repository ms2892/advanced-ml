{
 "cells": [
  {
   "cell_type": "code",
   "execution_count": 97,
   "metadata": {},
   "outputs": [
    {
     "name": "stdout",
     "output_type": "stream",
     "text": [
      "The autoreload extension is already loaded. To reload it, use:\n",
      "  %reload_ext autoreload\n"
     ]
    }
   ],
   "source": [
    "%load_ext autoreload\n",
    "%autoreload 2"
   ]
  },
  {
   "cell_type": "code",
   "execution_count": 136,
   "metadata": {},
   "outputs": [
    {
     "name": "stdout",
     "output_type": "stream",
     "text": [
      "Number of Classes in Cora: 7\n",
      "Number of Node Features in Cora: 1433\n"
     ]
    }
   ],
   "source": [
    "from torch_geometric.data import Data\n",
    "from torch_geometric.nn import GATConv # official GAT implementation in PyG\n",
    "from torch_geometric.datasets import Planetoid \n",
    "import torch_geometric.transforms as T\n",
    "import torch\n",
    "import torch.nn as nn\n",
    "import torch.nn.functional as F\n",
    "\n",
    "import matplotlib.pyplot as plt \n",
    "\n",
    "name_data = 'Cora'\n",
    "dataset = Planetoid(root='data', name=name_data)\n",
    "dataset.transform = T.NormalizeFeatures()\n",
    "\n",
    "print(f\"Number of Classes in {name_data}:\", dataset.num_classes)\n",
    "print(f\"Number of Node Features in {name_data}:\", dataset.num_node_features)"
   ]
  },
  {
   "cell_type": "code",
   "execution_count": 137,
   "metadata": {},
   "outputs": [
    {
     "name": "stdout",
     "output_type": "stream",
     "text": [
      "Data(x=[2708, 1433], edge_index=[2, 10556], y=[2708], train_mask=[2708], val_mask=[2708], test_mask=[2708])\n",
      "tensor(True)\n",
      "tensor(0.9986)\n",
      "torch.Size([1, 2708, 2708])\n"
     ]
    }
   ],
   "source": [
    "from models.gmodel import GAT, VGAT\n",
    "\n",
    "\n",
    "device = torch.device('cuda' if torch.cuda.is_available() else 'cpu')\n",
    "\n",
    "model = GAT(\n",
    "    in_features=dataset.num_features,\n",
    "    hidden_features=64,\n",
    "    n_heads=8,\n",
    "    num_classes=dataset.num_classes,\n",
    "    dropout=0.6,\n",
    "    leaky_relu=0.2,\n",
    ").to(device)\n",
    "\n",
    "data = dataset[0].to(device)\n",
    "print(data)\n",
    "A = 1.0 - torch.sparse.LongTensor(\n",
    "    data.edge_index, # where to put\n",
    "    torch.ones(data.edge_index.shape[1]).to(device),\n",
    "    torch.Size((data.x.shape[0], data.x.shape[0])),\n",
    ").to_dense()\n",
    "A[A.bool()] = float(\"-Inf\")\n",
    "print(torch.all(A == A.T))\n",
    "A = A.unsqueeze(0)\n",
    "print((A != 0).float().mean())\n",
    "print(A.shape)\n",
    "\n",
    "optimizer = torch.optim.AdamQ(model.parameters(), lr=5e-3, weight_decay=5e-4)"
   ]
  },
  {
   "cell_type": "code",
   "execution_count": 138,
   "metadata": {},
   "outputs": [
    {
     "data": {
      "text/plain": [
       "tensor([[[-inf, -inf, -inf,  ..., -inf, -inf, -inf],\n",
       "         [-inf, -inf, 0.,  ..., -inf, -inf, -inf],\n",
       "         [-inf, 0., -inf,  ..., -inf, -inf, -inf],\n",
       "         ...,\n",
       "         [-inf, -inf, -inf,  ..., -inf, -inf, -inf],\n",
       "         [-inf, -inf, -inf,  ..., -inf, -inf, 0.],\n",
       "         [-inf, -inf, -inf,  ..., -inf, 0., -inf]]])"
      ]
     },
     "execution_count": 138,
     "metadata": {},
     "output_type": "execute_result"
    }
   ],
   "source": [
    "A"
   ]
  },
  {
   "cell_type": "code",
   "execution_count": 142,
   "metadata": {},
   "outputs": [],
   "source": [
    "def train(model, optimizer, data, A):\n",
    "    model.train()\n",
    "    logits = model(data.x, A)\n",
    "    loss = F.cross_entropy(logits[data.train_mask], data.y[data.train_mask])\n",
    "    \n",
    "    optimizer.zero_grad()\n",
    "    loss.backward()\n",
    "    optimizer.step()\n",
    "    \n",
    "    return loss.item()\n",
    "\n",
    "\n",
    "def test(model, data, A):\n",
    "    accs = []\n",
    "\n",
    "    model.eval()\n",
    "    with torch.no_grad():\n",
    "        logits = model(data.x, A)\n",
    "\n",
    "    for _, mask in data('train_mask', 'val_mask', 'test_mask'):\n",
    "        pred = logits[mask].argmax(1)\n",
    "        acc = pred.eq(data.y[mask]).float().mean()\n",
    "        accs.append(acc)\n",
    "    \n",
    "    return accs"
   ]
  },
  {
   "cell_type": "code",
   "execution_count": 145,
   "metadata": {},
   "outputs": [],
   "source": [
    "LOGGING_FORMAT = 'Epoch: {}, train_loss: {}, val_acc: {:.4f}, test_acc: {:.4f}'\n",
    "\n",
    "def train_loop(model, optimizer, data, A, epochs):\n",
    "\n",
    "    best_val_acc = test_acc = 0\n",
    "\n",
    "    for epoch in range(1, epochs):\n",
    "        loss = train(model, optimizer, data, A)\n",
    "\n",
    "        _, val_acc, curr_test_acc = test(model, data, A)\n",
    "        if val_acc > best_val_acc:\n",
    "            best_val_acc = val_acc\n",
    "            test_acc = curr_test_acc\n",
    "        \n",
    "        if epoch % 10 == 0:\n",
    "            print(LOGGING_FORMAT.format(epoch, loss, best_val_acc, test_acc))\n"
   ]
  },
  {
   "cell_type": "code",
   "execution_count": 146,
   "metadata": {},
   "outputs": [
    {
     "name": "stdout",
     "output_type": "stream",
     "text": [
      "Epoch: 10, train_loss: 1.9150930643081665, val_acc: 0.5080, test_acc: 0.5270\n",
      "Epoch: 20, train_loss: 1.878787636756897, val_acc: 0.5620, test_acc: 0.5760\n",
      "Epoch: 30, train_loss: 1.8617841005325317, val_acc: 0.5780, test_acc: 0.5760\n",
      "Epoch: 40, train_loss: 1.801270842552185, val_acc: 0.5880, test_acc: 0.5850\n",
      "Epoch: 50, train_loss: 1.7311216592788696, val_acc: 0.5880, test_acc: 0.5850\n",
      "Epoch: 60, train_loss: 1.6968421936035156, val_acc: 0.5880, test_acc: 0.5850\n",
      "Epoch: 70, train_loss: 1.5875798463821411, val_acc: 0.5940, test_acc: 0.5880\n",
      "Epoch: 80, train_loss: 1.513552188873291, val_acc: 0.5960, test_acc: 0.5990\n",
      "Epoch: 90, train_loss: 1.4785003662109375, val_acc: 0.6060, test_acc: 0.6080\n",
      "Epoch: 100, train_loss: 1.419276475906372, val_acc: 0.6080, test_acc: 0.6100\n",
      "Epoch: 110, train_loss: 1.3837158679962158, val_acc: 0.6080, test_acc: 0.6100\n",
      "Epoch: 120, train_loss: 1.2157044410705566, val_acc: 0.6100, test_acc: 0.6080\n",
      "Epoch: 130, train_loss: 1.1617473363876343, val_acc: 0.6100, test_acc: 0.6080\n",
      "Epoch: 140, train_loss: 1.0835129022598267, val_acc: 0.6100, test_acc: 0.6080\n",
      "Epoch: 150, train_loss: 1.1918203830718994, val_acc: 0.6100, test_acc: 0.6080\n",
      "Epoch: 160, train_loss: 1.1495482921600342, val_acc: 0.6100, test_acc: 0.6080\n",
      "Epoch: 170, train_loss: 1.1526509523391724, val_acc: 0.6100, test_acc: 0.6080\n"
     ]
    },
    {
     "ename": "KeyboardInterrupt",
     "evalue": "",
     "output_type": "error",
     "traceback": [
      "\u001b[0;31m---------------------------------------------------------------------------\u001b[0m",
      "\u001b[0;31mKeyboardInterrupt\u001b[0m                         Traceback (most recent call last)",
      "Cell \u001b[0;32mIn[146], line 1\u001b[0m\n\u001b[0;32m----> 1\u001b[0m train_loop(model, optimizer, data, A, epochs\u001b[39m=\u001b[39;49m\u001b[39m1000\u001b[39;49m)\n",
      "Cell \u001b[0;32mIn[145], line 8\u001b[0m, in \u001b[0;36mtrain_loop\u001b[0;34m(model, optimizer, data, A, epochs)\u001b[0m\n\u001b[1;32m      5\u001b[0m best_val_acc \u001b[39m=\u001b[39m test_acc \u001b[39m=\u001b[39m \u001b[39m0\u001b[39m\n\u001b[1;32m      7\u001b[0m \u001b[39mfor\u001b[39;00m epoch \u001b[39min\u001b[39;00m \u001b[39mrange\u001b[39m(\u001b[39m1\u001b[39m, epochs):\n\u001b[0;32m----> 8\u001b[0m     loss \u001b[39m=\u001b[39m train(model, optimizer, data, A)\n\u001b[1;32m     10\u001b[0m     _, val_acc, curr_test_acc \u001b[39m=\u001b[39m test(model, data, A)\n\u001b[1;32m     11\u001b[0m     \u001b[39mif\u001b[39;00m val_acc \u001b[39m>\u001b[39m best_val_acc:\n",
      "Cell \u001b[0;32mIn[142], line 7\u001b[0m, in \u001b[0;36mtrain\u001b[0;34m(model, optimizer, data, A)\u001b[0m\n\u001b[1;32m      4\u001b[0m loss \u001b[39m=\u001b[39m F\u001b[39m.\u001b[39mcross_entropy(logits[data\u001b[39m.\u001b[39mtrain_mask], data\u001b[39m.\u001b[39my[data\u001b[39m.\u001b[39mtrain_mask])\n\u001b[1;32m      6\u001b[0m optimizer\u001b[39m.\u001b[39mzero_grad()\n\u001b[0;32m----> 7\u001b[0m loss\u001b[39m.\u001b[39;49mbackward()\n\u001b[1;32m      8\u001b[0m optimizer\u001b[39m.\u001b[39mstep()\n\u001b[1;32m     10\u001b[0m \u001b[39mreturn\u001b[39;00m loss\u001b[39m.\u001b[39mitem()\n",
      "File \u001b[0;32m/opt/anaconda3/envs/aml/lib/python3.10/site-packages/torch/_tensor.py:488\u001b[0m, in \u001b[0;36mTensor.backward\u001b[0;34m(self, gradient, retain_graph, create_graph, inputs)\u001b[0m\n\u001b[1;32m    478\u001b[0m \u001b[39mif\u001b[39;00m has_torch_function_unary(\u001b[39mself\u001b[39m):\n\u001b[1;32m    479\u001b[0m     \u001b[39mreturn\u001b[39;00m handle_torch_function(\n\u001b[1;32m    480\u001b[0m         Tensor\u001b[39m.\u001b[39mbackward,\n\u001b[1;32m    481\u001b[0m         (\u001b[39mself\u001b[39m,),\n\u001b[0;32m   (...)\u001b[0m\n\u001b[1;32m    486\u001b[0m         inputs\u001b[39m=\u001b[39minputs,\n\u001b[1;32m    487\u001b[0m     )\n\u001b[0;32m--> 488\u001b[0m torch\u001b[39m.\u001b[39;49mautograd\u001b[39m.\u001b[39;49mbackward(\n\u001b[1;32m    489\u001b[0m     \u001b[39mself\u001b[39;49m, gradient, retain_graph, create_graph, inputs\u001b[39m=\u001b[39;49minputs\n\u001b[1;32m    490\u001b[0m )\n",
      "File \u001b[0;32m/opt/anaconda3/envs/aml/lib/python3.10/site-packages/torch/autograd/__init__.py:197\u001b[0m, in \u001b[0;36mbackward\u001b[0;34m(tensors, grad_tensors, retain_graph, create_graph, grad_variables, inputs)\u001b[0m\n\u001b[1;32m    192\u001b[0m     retain_graph \u001b[39m=\u001b[39m create_graph\n\u001b[1;32m    194\u001b[0m \u001b[39m# The reason we repeat same the comment below is that\u001b[39;00m\n\u001b[1;32m    195\u001b[0m \u001b[39m# some Python versions print out the first line of a multi-line function\u001b[39;00m\n\u001b[1;32m    196\u001b[0m \u001b[39m# calls in the traceback and some print out the last line\u001b[39;00m\n\u001b[0;32m--> 197\u001b[0m Variable\u001b[39m.\u001b[39;49m_execution_engine\u001b[39m.\u001b[39;49mrun_backward(  \u001b[39m# Calls into the C++ engine to run the backward pass\u001b[39;49;00m\n\u001b[1;32m    198\u001b[0m     tensors, grad_tensors_, retain_graph, create_graph, inputs,\n\u001b[1;32m    199\u001b[0m     allow_unreachable\u001b[39m=\u001b[39;49m\u001b[39mTrue\u001b[39;49;00m, accumulate_grad\u001b[39m=\u001b[39;49m\u001b[39mTrue\u001b[39;49;00m)\n",
      "\u001b[0;31mKeyboardInterrupt\u001b[0m: "
     ]
    }
   ],
   "source": [
    "train_loop(model, optimizer, data, A, epochs=1000)"
   ]
  },
  {
   "cell_type": "code",
   "execution_count": null,
   "metadata": {},
   "outputs": [],
   "source": []
  },
  {
   "cell_type": "code",
   "execution_count": null,
   "metadata": {},
   "outputs": [],
   "source": []
  }
 ],
 "metadata": {
  "kernelspec": {
   "display_name": "base",
   "language": "python",
   "name": "python3"
  },
  "language_info": {
   "codemirror_mode": {
    "name": "ipython",
    "version": 3
   },
   "file_extension": ".py",
   "mimetype": "text/x-python",
   "name": "python",
   "nbconvert_exporter": "python",
   "pygments_lexer": "ipython3",
   "version": "3.10.9"
  },
  "orig_nbformat": 4
 },
 "nbformat": 4,
 "nbformat_minor": 2
}
