{
 "cells": [
  {
   "cell_type": "code",
   "execution_count": 92,
   "metadata": {},
   "outputs": [
    {
     "name": "stdout",
     "output_type": "stream",
     "text": [
      "The autoreload extension is already loaded. To reload it, use:\n",
      "  %reload_ext autoreload\n"
     ]
    }
   ],
   "source": [
    "%load_ext autoreload\n",
    "%autoreload 2"
   ]
  },
  {
   "cell_type": "code",
   "execution_count": 93,
   "metadata": {},
   "outputs": [
    {
     "name": "stdout",
     "output_type": "stream",
     "text": [
      "Number of Classes in Cora: 7\n",
      "Number of Node Features in Cora: 1433\n"
     ]
    }
   ],
   "source": [
    "from torch_geometric.datasets import Planetoid \n",
    "import torch_geometric.transforms as T\n",
    "import torch\n",
    "import torch.nn.functional as F\n",
    "import torch.distributions as D\n",
    "\n",
    "import matplotlib.pyplot as plt\n",
    "\n",
    "name_data = 'Cora'\n",
    "dataset = Planetoid(root='data', name=name_data)\n",
    "dataset.transform = T.NormalizeFeatures()\n",
    "\n",
    "print(f\"Number of Classes in {name_data}:\", dataset.num_classes)\n",
    "print(f\"Number of Node Features in {name_data}:\", dataset.num_node_features)"
   ]
  },
  {
   "cell_type": "code",
   "execution_count": 94,
   "metadata": {},
   "outputs": [
    {
     "name": "stdout",
     "output_type": "stream",
     "text": [
      "# parameters: 184604\n",
      "Data(x=[2708, 1433], edge_index=[2, 10556], y=[2708], train_mask=[2708], val_mask=[2708], test_mask=[2708])\n",
      "tensor(True)\n",
      "tensor(0.9986)\n",
      "torch.Size([1, 2708, 2708])\n"
     ]
    }
   ],
   "source": [
    "from models.gmodel import VGAT, GATELBO\n",
    "\n",
    "device = torch.device('cuda' if torch.cuda.is_available() else 'cpu')\n",
    "\n",
    "# I put the most basic one, make sure to adjust this\n",
    "prior_distribution = D.Normal(\n",
    "    loc=torch.zeros(1).to(device),\n",
    "    scale=torch.tensor(1).to(device),\n",
    ")\n",
    "\n",
    "model = VGAT(\n",
    "    in_features=dataset.num_features,\n",
    "    hidden_features=64,\n",
    "    n_heads=8,\n",
    "    prior_distribution=prior_distribution,\n",
    "    num_classes=dataset.num_classes,\n",
    "    leaky_relu=0.2,\n",
    ").to(device)\n",
    "print(f\"# parameters: {sum(p.nelement() for p in model.parameters())}\")\n",
    "\n",
    "data = dataset[0].to(device)\n",
    "print(data)\n",
    "A = 1.0 - torch.sparse.LongTensor(\n",
    "    data.edge_index, # where to put\n",
    "    torch.ones(data.edge_index.shape[1]).to(device),\n",
    "    torch.Size((data.x.shape[0], data.x.shape[0])),\n",
    ").to_dense()\n",
    "A[A.bool()] = float(\"-Inf\")\n",
    "print(torch.all(A == A.T))\n",
    "A = A.unsqueeze(0)\n",
    "print((A != 0).float().mean())\n",
    "print(A.shape)\n",
    "\n",
    "optimizer = torch.optim.Adam(model.parameters(), lr=5e-3, weight_decay=5e-4)"
   ]
  },
  {
   "cell_type": "code",
   "execution_count": 95,
   "metadata": {},
   "outputs": [
    {
     "data": {
      "text/plain": [
       "tensor([[[-inf, -inf, -inf,  ..., -inf, -inf, -inf],\n",
       "         [-inf, -inf, 0.,  ..., -inf, -inf, -inf],\n",
       "         [-inf, 0., -inf,  ..., -inf, -inf, -inf],\n",
       "         ...,\n",
       "         [-inf, -inf, -inf,  ..., -inf, -inf, -inf],\n",
       "         [-inf, -inf, -inf,  ..., -inf, -inf, 0.],\n",
       "         [-inf, -inf, -inf,  ..., -inf, 0., -inf]]])"
      ]
     },
     "execution_count": 95,
     "metadata": {},
     "output_type": "execute_result"
    }
   ],
   "source": [
    "A"
   ]
  },
  {
   "cell_type": "code",
   "execution_count": 96,
   "metadata": {},
   "outputs": [],
   "source": [
    "criterion = GATELBO()"
   ]
  },
  {
   "cell_type": "code",
   "execution_count": 97,
   "metadata": {},
   "outputs": [],
   "source": [
    "def train(model, optimizer, data, A, n_samples=1):\n",
    "    model.train()\n",
    "    logits, kl_divergence = model(data.x, A, n_samples=n_samples)\n",
    "    elbo, nll = criterion(\n",
    "        logits[data.train_mask], data.y[data.train_mask], kl_divergence\n",
    "    )\n",
    "    \n",
    "    optimizer.zero_grad()\n",
    "    elbo.backward()\n",
    "    optimizer.step()\n",
    "    \n",
    "    return elbo.item(), (elbo - nll).item(), nll.item()\n",
    "\n",
    "\n",
    "def test(model, data, A, n_samples=1):\n",
    "    accs = []\n",
    "\n",
    "    model.eval()\n",
    "    with torch.no_grad():\n",
    "        logits, _ = model(data.x, A, n_samples=n_samples)\n",
    "\n",
    "    for _, mask in data('train_mask', 'val_mask', 'test_mask'):\n",
    "        pred = F.softmax(logits[mask], dim=-1).mean(dim=1).argmax(dim=1)\n",
    "        acc = pred.eq(data.y[mask]).float().mean()\n",
    "        accs.append(acc)\n",
    "    \n",
    "    return accs"
   ]
  },
  {
   "cell_type": "code",
   "execution_count": 98,
   "metadata": {},
   "outputs": [],
   "source": [
    "LOGGING_FORMAT = \"Epoch: {}, train_elbo: {}, train_kl: {}, train_nll: {}, train_acc: {:.4f}, val_acc: {:.4f}, test_acc: {:.4f}\"\n",
    "\n",
    "def train_loop(model, optimizer, data, A, epochs, n_samples=1):\n",
    "\n",
    "    best_val_acc = test_acc = 0\n",
    "\n",
    "    for epoch in range(1, epochs):\n",
    "        elbo, kl, nll = train(model, optimizer, data, A, n_samples=n_samples)\n",
    "\n",
    "        train_acc, val_acc, curr_test_acc = test(model, data, A, n_samples=n_samples)\n",
    "        if val_acc > best_val_acc:\n",
    "            best_val_acc = val_acc\n",
    "            test_acc = curr_test_acc\n",
    "        \n",
    "        if epoch % 10 == 0:\n",
    "            print(LOGGING_FORMAT.format(epoch, elbo, kl, nll, train_acc, best_val_acc, test_acc))\n"
   ]
  },
  {
   "cell_type": "code",
   "execution_count": 99,
   "metadata": {},
   "outputs": [
    {
     "name": "stdout",
     "output_type": "stream",
     "text": [
      "Epoch: 10, train_elbo: 254978.8125, train_kl: 254708.171875, train_nll: 270.6416015625, train_acc: 0.5500, val_acc: 0.4680, test_acc: 0.4740\n",
      "Epoch: 20, train_elbo: 250359.78125, train_kl: 250089.578125, train_nll: 270.20660400390625, train_acc: 0.7143, val_acc: 0.4840, test_acc: 0.4780\n",
      "Epoch: 30, train_elbo: 245888.078125, train_kl: 245618.09375, train_nll: 269.982421875, train_acc: 0.6071, val_acc: 0.5360, test_acc: 0.5280\n"
     ]
    },
    {
     "ename": "KeyboardInterrupt",
     "evalue": "",
     "output_type": "error",
     "traceback": [
      "\u001b[0;31m---------------------------------------------------------------------------\u001b[0m",
      "\u001b[0;31mKeyboardInterrupt\u001b[0m                         Traceback (most recent call last)",
      "Cell \u001b[0;32mIn[99], line 1\u001b[0m\n\u001b[0;32m----> 1\u001b[0m train_loop(model, optimizer, data, A, epochs\u001b[39m=\u001b[39;49m\u001b[39m1000\u001b[39;49m, n_samples\u001b[39m=\u001b[39;49m\u001b[39m2\u001b[39;49m)\n",
      "Cell \u001b[0;32mIn[98], line 8\u001b[0m, in \u001b[0;36mtrain_loop\u001b[0;34m(model, optimizer, data, A, epochs, n_samples)\u001b[0m\n\u001b[1;32m      5\u001b[0m best_val_acc \u001b[39m=\u001b[39m test_acc \u001b[39m=\u001b[39m \u001b[39m0\u001b[39m\n\u001b[1;32m      7\u001b[0m \u001b[39mfor\u001b[39;00m epoch \u001b[39min\u001b[39;00m \u001b[39mrange\u001b[39m(\u001b[39m1\u001b[39m, epochs):\n\u001b[0;32m----> 8\u001b[0m     elbo, kl, nll \u001b[39m=\u001b[39m train(model, optimizer, data, A, n_samples\u001b[39m=\u001b[39;49mn_samples)\n\u001b[1;32m     10\u001b[0m     train_acc, val_acc, curr_test_acc \u001b[39m=\u001b[39m test(model, data, A, n_samples\u001b[39m=\u001b[39mn_samples)\n\u001b[1;32m     11\u001b[0m     \u001b[39mif\u001b[39;00m val_acc \u001b[39m>\u001b[39m best_val_acc:\n",
      "Cell \u001b[0;32mIn[97], line 3\u001b[0m, in \u001b[0;36mtrain\u001b[0;34m(model, optimizer, data, A, n_samples)\u001b[0m\n\u001b[1;32m      1\u001b[0m \u001b[39mdef\u001b[39;00m \u001b[39mtrain\u001b[39m(model, optimizer, data, A, n_samples\u001b[39m=\u001b[39m\u001b[39m1\u001b[39m):\n\u001b[1;32m      2\u001b[0m     model\u001b[39m.\u001b[39mtrain()\n\u001b[0;32m----> 3\u001b[0m     logits, kl_divergence \u001b[39m=\u001b[39m model(data\u001b[39m.\u001b[39;49mx, A, n_samples\u001b[39m=\u001b[39;49mn_samples)\n\u001b[1;32m      4\u001b[0m     elbo, nll \u001b[39m=\u001b[39m criterion(\n\u001b[1;32m      5\u001b[0m         logits[data\u001b[39m.\u001b[39mtrain_mask], data\u001b[39m.\u001b[39my[data\u001b[39m.\u001b[39mtrain_mask], kl_divergence\n\u001b[1;32m      6\u001b[0m     )\n\u001b[1;32m      8\u001b[0m     optimizer\u001b[39m.\u001b[39mzero_grad()\n",
      "File \u001b[0;32m/opt/anaconda3/envs/aml/lib/python3.10/site-packages/torch/nn/modules/module.py:1194\u001b[0m, in \u001b[0;36mModule._call_impl\u001b[0;34m(self, *input, **kwargs)\u001b[0m\n\u001b[1;32m   1190\u001b[0m \u001b[39m# If we don't have any hooks, we want to skip the rest of the logic in\u001b[39;00m\n\u001b[1;32m   1191\u001b[0m \u001b[39m# this function, and just call forward.\u001b[39;00m\n\u001b[1;32m   1192\u001b[0m \u001b[39mif\u001b[39;00m \u001b[39mnot\u001b[39;00m (\u001b[39mself\u001b[39m\u001b[39m.\u001b[39m_backward_hooks \u001b[39mor\u001b[39;00m \u001b[39mself\u001b[39m\u001b[39m.\u001b[39m_forward_hooks \u001b[39mor\u001b[39;00m \u001b[39mself\u001b[39m\u001b[39m.\u001b[39m_forward_pre_hooks \u001b[39mor\u001b[39;00m _global_backward_hooks\n\u001b[1;32m   1193\u001b[0m         \u001b[39mor\u001b[39;00m _global_forward_hooks \u001b[39mor\u001b[39;00m _global_forward_pre_hooks):\n\u001b[0;32m-> 1194\u001b[0m     \u001b[39mreturn\u001b[39;00m forward_call(\u001b[39m*\u001b[39;49m\u001b[39minput\u001b[39;49m, \u001b[39m*\u001b[39;49m\u001b[39m*\u001b[39;49mkwargs)\n\u001b[1;32m   1195\u001b[0m \u001b[39m# Do not call functions when jit is used\u001b[39;00m\n\u001b[1;32m   1196\u001b[0m full_backward_hooks, non_full_backward_hooks \u001b[39m=\u001b[39m [], []\n",
      "File \u001b[0;32m~/Documents/cambridge/advanced_ml/advanced-ml/models/gmodel.py:101\u001b[0m, in \u001b[0;36mVGAT.forward\u001b[0;34m(self, x, A, n_samples)\u001b[0m\n\u001b[1;32m     98\u001b[0m kl_divergence \u001b[39m=\u001b[39m \u001b[39m0\u001b[39m\n\u001b[1;32m    100\u001b[0m \u001b[39mfor\u001b[39;00m _ \u001b[39min\u001b[39;00m \u001b[39mrange\u001b[39m(n_samples):\n\u001b[0;32m--> 101\u001b[0m     curr_logits, curr_kl_divergence \u001b[39m=\u001b[39m \u001b[39mself\u001b[39;49m\u001b[39m.\u001b[39;49m_single_forward(x, A)\n\u001b[1;32m    102\u001b[0m     logits\u001b[39m.\u001b[39mappend(curr_logits)\n\u001b[1;32m    103\u001b[0m     kl_divergence \u001b[39m+\u001b[39m\u001b[39m=\u001b[39m curr_kl_divergence\n",
      "File \u001b[0;32m~/Documents/cambridge/advanced_ml/advanced-ml/models/gmodel.py:83\u001b[0m, in \u001b[0;36mVGAT._single_forward\u001b[0;34m(self, x, A)\u001b[0m\n\u001b[1;32m     80\u001b[0m \u001b[39mdef\u001b[39;00m \u001b[39m_single_forward\u001b[39m(\u001b[39mself\u001b[39m, x, A):\n\u001b[1;32m     81\u001b[0m     total_kl_divergence \u001b[39m=\u001b[39m \u001b[39m0\u001b[39m\n\u001b[0;32m---> 83\u001b[0m     x, tmp_kl_divergence \u001b[39m=\u001b[39m \u001b[39mself\u001b[39;49m\u001b[39m.\u001b[39;49mvgat1(x, A)\n\u001b[1;32m     84\u001b[0m     total_kl_divergence \u001b[39m+\u001b[39m\u001b[39m=\u001b[39m tmp_kl_divergence\n\u001b[1;32m     86\u001b[0m     x \u001b[39m=\u001b[39m F\u001b[39m.\u001b[39melu(x)\n",
      "File \u001b[0;32m/opt/anaconda3/envs/aml/lib/python3.10/site-packages/torch/nn/modules/module.py:1194\u001b[0m, in \u001b[0;36mModule._call_impl\u001b[0;34m(self, *input, **kwargs)\u001b[0m\n\u001b[1;32m   1190\u001b[0m \u001b[39m# If we don't have any hooks, we want to skip the rest of the logic in\u001b[39;00m\n\u001b[1;32m   1191\u001b[0m \u001b[39m# this function, and just call forward.\u001b[39;00m\n\u001b[1;32m   1192\u001b[0m \u001b[39mif\u001b[39;00m \u001b[39mnot\u001b[39;00m (\u001b[39mself\u001b[39m\u001b[39m.\u001b[39m_backward_hooks \u001b[39mor\u001b[39;00m \u001b[39mself\u001b[39m\u001b[39m.\u001b[39m_forward_hooks \u001b[39mor\u001b[39;00m \u001b[39mself\u001b[39m\u001b[39m.\u001b[39m_forward_pre_hooks \u001b[39mor\u001b[39;00m _global_backward_hooks\n\u001b[1;32m   1193\u001b[0m         \u001b[39mor\u001b[39;00m _global_forward_hooks \u001b[39mor\u001b[39;00m _global_forward_pre_hooks):\n\u001b[0;32m-> 1194\u001b[0m     \u001b[39mreturn\u001b[39;00m forward_call(\u001b[39m*\u001b[39;49m\u001b[39minput\u001b[39;49m, \u001b[39m*\u001b[39;49m\u001b[39m*\u001b[39;49mkwargs)\n\u001b[1;32m   1195\u001b[0m \u001b[39m# Do not call functions when jit is used\u001b[39;00m\n\u001b[1;32m   1196\u001b[0m full_backward_hooks, non_full_backward_hooks \u001b[39m=\u001b[39m [], []\n",
      "File \u001b[0;32m~/Documents/cambridge/advanced_ml/advanced-ml/models/glayers.py:139\u001b[0m, in \u001b[0;36mVGATLayer.forward\u001b[0;34m(self, inp, A)\u001b[0m\n\u001b[1;32m    137\u001b[0m attention_coeffs \u001b[39m=\u001b[39m \u001b[39mself\u001b[39m\u001b[39m.\u001b[39mleaky_relu(logits_source \u001b[39m+\u001b[39m logits_target)\n\u001b[1;32m    138\u001b[0m attention_coeffs \u001b[39m=\u001b[39m attention_coeffs \u001b[39m+\u001b[39m A\n\u001b[0;32m--> 139\u001b[0m attention_coeffs \u001b[39m=\u001b[39m F\u001b[39m.\u001b[39;49msoftmax(attention_coeffs, dim\u001b[39m=\u001b[39;49m\u001b[39m-\u001b[39;49m\u001b[39m1\u001b[39;49m) \u001b[39m# (n_heads, N, N)\u001b[39;00m\n\u001b[1;32m    141\u001b[0m \u001b[39m# Apply dropout\u001b[39;00m\n\u001b[1;32m    142\u001b[0m \u001b[39m# attention_coeffs = F.dropout(attention_coeffs, p=self.dropout, training=self.training)\u001b[39;00m\n\u001b[1;32m    143\u001b[0m \n\u001b[1;32m    144\u001b[0m \u001b[39m# (n_heads, N, N) x (n_heads, N, hidden_features) = (n_heads, N, hidden_features)\u001b[39;00m\n\u001b[1;32m    145\u001b[0m out_node_features \u001b[39m=\u001b[39m torch\u001b[39m.\u001b[39mbmm(attention_coeffs, h\u001b[39m.\u001b[39mtranspose(\u001b[39m0\u001b[39m, \u001b[39m1\u001b[39m))\n",
      "File \u001b[0;32m/opt/anaconda3/envs/aml/lib/python3.10/site-packages/torch/nn/functional.py:1841\u001b[0m, in \u001b[0;36msoftmax\u001b[0;34m(input, dim, _stacklevel, dtype)\u001b[0m\n\u001b[1;32m   1839\u001b[0m     dim \u001b[39m=\u001b[39m _get_softmax_dim(\u001b[39m\"\u001b[39m\u001b[39msoftmax\u001b[39m\u001b[39m\"\u001b[39m, \u001b[39minput\u001b[39m\u001b[39m.\u001b[39mdim(), _stacklevel)\n\u001b[1;32m   1840\u001b[0m \u001b[39mif\u001b[39;00m dtype \u001b[39mis\u001b[39;00m \u001b[39mNone\u001b[39;00m:\n\u001b[0;32m-> 1841\u001b[0m     ret \u001b[39m=\u001b[39m \u001b[39minput\u001b[39;49m\u001b[39m.\u001b[39;49msoftmax(dim)\n\u001b[1;32m   1842\u001b[0m \u001b[39melse\u001b[39;00m:\n\u001b[1;32m   1843\u001b[0m     ret \u001b[39m=\u001b[39m \u001b[39minput\u001b[39m\u001b[39m.\u001b[39msoftmax(dim, dtype\u001b[39m=\u001b[39mdtype)\n",
      "\u001b[0;31mKeyboardInterrupt\u001b[0m: "
     ]
    }
   ],
   "source": [
    "train_loop(model, optimizer, data, A, epochs=1000, n_samples=2)"
   ]
  },
  {
   "cell_type": "code",
   "execution_count": null,
   "metadata": {},
   "outputs": [],
   "source": []
  }
 ],
 "metadata": {
  "kernelspec": {
   "display_name": "base",
   "language": "python",
   "name": "python3"
  },
  "language_info": {
   "codemirror_mode": {
    "name": "ipython",
    "version": 3
   },
   "file_extension": ".py",
   "mimetype": "text/x-python",
   "name": "python",
   "nbconvert_exporter": "python",
   "pygments_lexer": "ipython3",
   "version": "3.10.9"
  },
  "orig_nbformat": 4
 },
 "nbformat": 4,
 "nbformat_minor": 2
}
