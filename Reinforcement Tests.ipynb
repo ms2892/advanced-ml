{
 "cells": [
  {
   "cell_type": "code",
   "execution_count": 1,
   "id": "4c79036c",
   "metadata": {},
   "outputs": [],
   "source": [
    "from bandit import AgentBandit\n",
    "from models.classification import Classification\n",
    "from models.regression import Regression\n",
    "from sklearn import preprocessing\n",
    "\n",
    "import numpy as np\n",
    "import pandas as pd\n",
    "import torch.nn as nn\n",
    "import utils.datasets as DB"
   ]
  },
  {
   "cell_type": "code",
   "execution_count": 2,
   "id": "805de9b8",
   "metadata": {},
   "outputs": [
    {
     "name": "stderr",
     "output_type": "stream",
     "text": [
      "2023-02-28 20:33:16,629 [INFO] Folder for UCI Mushroom found in the data folder. If the files are corrupted please delete the folder at location ../data/UCI_Mushroom and re-run this command\n"
     ]
    }
   ],
   "source": [
    "datasets = DB.Datasets()\n",
    "datasets.download_UCI()"
   ]
  },
  {
   "cell_type": "code",
   "execution_count": 3,
   "id": "a2dd05eb",
   "metadata": {},
   "outputs": [],
   "source": [
    "col_names = ['class','cap-shape','cap-surface','cap-color','bruises','odor','gill-attachment',\n",
    "         'gill-spacing','gill-size','gill-color','stalk-shape','stalk-root',\n",
    "         'stalk-surf-above-ring','stalk-surf-below-ring','stalk-color-above-ring','stalk-color-below-ring',\n",
    "         'veil-type','veil-color','ring-number','ring-type','spore-color','population','habitat']\n",
    "mushrooms = pd.read_csv('data/UCI_Mushroom/agaricus-lepiota.data', header=None, names=col_names)\n",
    "\n",
    "labels = mushrooms.pop(mushrooms.columns[0]).to_numpy()\n",
    "context = mushrooms.copy()"
   ]
  },
  {
   "cell_type": "code",
   "execution_count": 4,
   "id": "bc1e0485",
   "metadata": {},
   "outputs": [
    {
     "data": {
      "text/html": [
       "<div>\n",
       "<style scoped>\n",
       "    .dataframe tbody tr th:only-of-type {\n",
       "        vertical-align: middle;\n",
       "    }\n",
       "\n",
       "    .dataframe tbody tr th {\n",
       "        vertical-align: top;\n",
       "    }\n",
       "\n",
       "    .dataframe thead th {\n",
       "        text-align: right;\n",
       "    }\n",
       "</style>\n",
       "<table border=\"1\" class=\"dataframe\">\n",
       "  <thead>\n",
       "    <tr style=\"text-align: right;\">\n",
       "      <th></th>\n",
       "      <th>cap-shape</th>\n",
       "      <th>cap-surface</th>\n",
       "      <th>cap-color</th>\n",
       "      <th>bruises</th>\n",
       "      <th>odor</th>\n",
       "      <th>gill-attachment</th>\n",
       "      <th>gill-spacing</th>\n",
       "      <th>gill-size</th>\n",
       "      <th>gill-color</th>\n",
       "      <th>stalk-shape</th>\n",
       "      <th>...</th>\n",
       "      <th>stalk-surf-below-ring</th>\n",
       "      <th>stalk-color-above-ring</th>\n",
       "      <th>stalk-color-below-ring</th>\n",
       "      <th>veil-type</th>\n",
       "      <th>veil-color</th>\n",
       "      <th>ring-number</th>\n",
       "      <th>ring-type</th>\n",
       "      <th>spore-color</th>\n",
       "      <th>population</th>\n",
       "      <th>habitat</th>\n",
       "    </tr>\n",
       "  </thead>\n",
       "  <tbody>\n",
       "    <tr>\n",
       "      <th>0</th>\n",
       "      <td>x</td>\n",
       "      <td>s</td>\n",
       "      <td>n</td>\n",
       "      <td>t</td>\n",
       "      <td>p</td>\n",
       "      <td>f</td>\n",
       "      <td>c</td>\n",
       "      <td>n</td>\n",
       "      <td>k</td>\n",
       "      <td>e</td>\n",
       "      <td>...</td>\n",
       "      <td>s</td>\n",
       "      <td>w</td>\n",
       "      <td>w</td>\n",
       "      <td>p</td>\n",
       "      <td>w</td>\n",
       "      <td>o</td>\n",
       "      <td>p</td>\n",
       "      <td>k</td>\n",
       "      <td>s</td>\n",
       "      <td>u</td>\n",
       "    </tr>\n",
       "    <tr>\n",
       "      <th>1</th>\n",
       "      <td>x</td>\n",
       "      <td>s</td>\n",
       "      <td>y</td>\n",
       "      <td>t</td>\n",
       "      <td>a</td>\n",
       "      <td>f</td>\n",
       "      <td>c</td>\n",
       "      <td>b</td>\n",
       "      <td>k</td>\n",
       "      <td>e</td>\n",
       "      <td>...</td>\n",
       "      <td>s</td>\n",
       "      <td>w</td>\n",
       "      <td>w</td>\n",
       "      <td>p</td>\n",
       "      <td>w</td>\n",
       "      <td>o</td>\n",
       "      <td>p</td>\n",
       "      <td>n</td>\n",
       "      <td>n</td>\n",
       "      <td>g</td>\n",
       "    </tr>\n",
       "    <tr>\n",
       "      <th>2</th>\n",
       "      <td>b</td>\n",
       "      <td>s</td>\n",
       "      <td>w</td>\n",
       "      <td>t</td>\n",
       "      <td>l</td>\n",
       "      <td>f</td>\n",
       "      <td>c</td>\n",
       "      <td>b</td>\n",
       "      <td>n</td>\n",
       "      <td>e</td>\n",
       "      <td>...</td>\n",
       "      <td>s</td>\n",
       "      <td>w</td>\n",
       "      <td>w</td>\n",
       "      <td>p</td>\n",
       "      <td>w</td>\n",
       "      <td>o</td>\n",
       "      <td>p</td>\n",
       "      <td>n</td>\n",
       "      <td>n</td>\n",
       "      <td>m</td>\n",
       "    </tr>\n",
       "    <tr>\n",
       "      <th>3</th>\n",
       "      <td>x</td>\n",
       "      <td>y</td>\n",
       "      <td>w</td>\n",
       "      <td>t</td>\n",
       "      <td>p</td>\n",
       "      <td>f</td>\n",
       "      <td>c</td>\n",
       "      <td>n</td>\n",
       "      <td>n</td>\n",
       "      <td>e</td>\n",
       "      <td>...</td>\n",
       "      <td>s</td>\n",
       "      <td>w</td>\n",
       "      <td>w</td>\n",
       "      <td>p</td>\n",
       "      <td>w</td>\n",
       "      <td>o</td>\n",
       "      <td>p</td>\n",
       "      <td>k</td>\n",
       "      <td>s</td>\n",
       "      <td>u</td>\n",
       "    </tr>\n",
       "    <tr>\n",
       "      <th>4</th>\n",
       "      <td>x</td>\n",
       "      <td>s</td>\n",
       "      <td>g</td>\n",
       "      <td>f</td>\n",
       "      <td>n</td>\n",
       "      <td>f</td>\n",
       "      <td>w</td>\n",
       "      <td>b</td>\n",
       "      <td>k</td>\n",
       "      <td>t</td>\n",
       "      <td>...</td>\n",
       "      <td>s</td>\n",
       "      <td>w</td>\n",
       "      <td>w</td>\n",
       "      <td>p</td>\n",
       "      <td>w</td>\n",
       "      <td>o</td>\n",
       "      <td>e</td>\n",
       "      <td>n</td>\n",
       "      <td>a</td>\n",
       "      <td>g</td>\n",
       "    </tr>\n",
       "  </tbody>\n",
       "</table>\n",
       "<p>5 rows × 22 columns</p>\n",
       "</div>"
      ],
      "text/plain": [
       "  cap-shape cap-surface cap-color bruises odor gill-attachment gill-spacing  \\\n",
       "0         x           s         n       t    p               f            c   \n",
       "1         x           s         y       t    a               f            c   \n",
       "2         b           s         w       t    l               f            c   \n",
       "3         x           y         w       t    p               f            c   \n",
       "4         x           s         g       f    n               f            w   \n",
       "\n",
       "  gill-size gill-color stalk-shape  ... stalk-surf-below-ring  \\\n",
       "0         n          k           e  ...                     s   \n",
       "1         b          k           e  ...                     s   \n",
       "2         b          n           e  ...                     s   \n",
       "3         n          n           e  ...                     s   \n",
       "4         b          k           t  ...                     s   \n",
       "\n",
       "  stalk-color-above-ring stalk-color-below-ring veil-type veil-color  \\\n",
       "0                      w                      w         p          w   \n",
       "1                      w                      w         p          w   \n",
       "2                      w                      w         p          w   \n",
       "3                      w                      w         p          w   \n",
       "4                      w                      w         p          w   \n",
       "\n",
       "  ring-number ring-type spore-color population habitat  \n",
       "0           o         p           k          s       u  \n",
       "1           o         p           n          n       g  \n",
       "2           o         p           n          n       m  \n",
       "3           o         p           k          s       u  \n",
       "4           o         e           n          a       g  \n",
       "\n",
       "[5 rows x 22 columns]"
      ]
     },
     "execution_count": 4,
     "metadata": {},
     "output_type": "execute_result"
    }
   ],
   "source": [
    "context.head()"
   ]
  },
  {
   "cell_type": "code",
   "execution_count": 5,
   "id": "c41ac42d",
   "metadata": {},
   "outputs": [
    {
     "name": "stdout",
     "output_type": "stream",
     "text": [
      "(8124, 22)\n"
     ]
    }
   ],
   "source": [
    "# Make labels numerical\n",
    "le = preprocessing.LabelEncoder()\n",
    "labels_numerical = le.fit_transform(labels)\n",
    "\n",
    "# Make each feature numerical\n",
    "for colname in context:\n",
    "    le = preprocessing.LabelEncoder()\n",
    "    context[colname] = le.fit_transform(context[colname])\n",
    "context_numerical = context.to_numpy()\n",
    "print(context_numerical.shape)"
   ]
  },
  {
   "cell_type": "code",
   "execution_count": 6,
   "id": "b3796719",
   "metadata": {},
   "outputs": [],
   "source": [
    "agent_args = {\n",
    "        'model_class'    : Regression, \n",
    "        'model_name'     : 'test_rl',\n",
    "        'input_dim'      : 22+2,\n",
    "        'output_dim'     : 1,\n",
    "        'hl_type'        : nn.Linear,\n",
    "        'hl_units'       : 100,\n",
    "        'batch_size'     : 64,\n",
    "        'buffer_size'    : 4096,\n",
    "        'scheduler'      : None,\n",
    "        'data_contexts'  : context_numerical,\n",
    "        'data_labels'    : labels_numerical,\n",
    "        'training_steps' : 64,\n",
    "        'n_samples'      : 1,\n",
    "        'epsilon'        : 0.2,\n",
    "        'learning_rate'  : 1e-3\n",
    "}"
   ]
  },
  {
   "cell_type": "code",
   "execution_count": 7,
   "id": "93a66c66",
   "metadata": {},
   "outputs": [],
   "source": [
    "agent = AgentBandit(**agent_args)"
   ]
  },
  {
   "cell_type": "code",
   "execution_count": null,
   "id": "601b4182",
   "metadata": {},
   "outputs": [],
   "source": [
    "for epoch in range(5):\n",
    "    print(epoch)\n",
    "    mushroom = np.random.randint(0, len(labels))\n",
    "    agent.learn(mushroom)"
   ]
  },
  {
   "cell_type": "code",
   "execution_count": 10,
   "id": "17575c09",
   "metadata": {},
   "outputs": [
    {
     "data": {
      "text/plain": [
       "[0, 35, 70, 65, 65]"
      ]
     },
     "execution_count": 10,
     "metadata": {},
     "output_type": "execute_result"
    }
   ],
   "source": [
    "agent.cum_regret"
   ]
  },
  {
   "cell_type": "code",
   "execution_count": 12,
   "id": "c0692ce9",
   "metadata": {},
   "outputs": [
    {
     "data": {
      "text/plain": [
       "array([  5., -35., -35., ...,   0.,   0.,   0.])"
      ]
     },
     "execution_count": 12,
     "metadata": {},
     "output_type": "execute_result"
    }
   ],
   "source": [
    "agent.reward_buffer"
   ]
  }
 ],
 "metadata": {
  "kernelspec": {
   "display_name": "Python 3 (ipykernel)",
   "language": "python",
   "name": "python3"
  },
  "language_info": {
   "codemirror_mode": {
    "name": "ipython",
    "version": 3
   },
   "file_extension": ".py",
   "mimetype": "text/x-python",
   "name": "python",
   "nbconvert_exporter": "python",
   "pygments_lexer": "ipython3",
   "version": "3.9.13"
  }
 },
 "nbformat": 4,
 "nbformat_minor": 5
}
