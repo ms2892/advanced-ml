{
 "cells": [
  {
   "cell_type": "code",
   "execution_count": 156,
   "id": "4c79036c",
   "metadata": {},
   "outputs": [],
   "source": [
    "from models.rlagent import AgentBandit\n",
    "from models.rlenvironment import Environment\n",
    "from models.regression import Regression\n",
    "from sklearn import preprocessing\n",
    "from torch.optim.lr_scheduler import StepLR\n",
    "\n",
    "import numpy as np\n",
    "import pandas as pd\n",
    "import torch.nn as nn\n",
    "import utils.datasets as DB"
   ]
  },
  {
   "cell_type": "code",
   "execution_count": 157,
   "id": "805de9b8",
   "metadata": {},
   "outputs": [
    {
     "name": "stderr",
     "output_type": "stream",
     "text": [
      "2023-03-08 13:27:20,074 [INFO] Folder for UCI Mushroom found in the data folder. If the files are corrupted please delete the folder at location ../data/UCI_Mushroom and re-run this command\n"
     ]
    }
   ],
   "source": [
    "datasets = DB.Datasets()\n",
    "datasets.download_UCI()"
   ]
  },
  {
   "cell_type": "code",
   "execution_count": 158,
   "id": "203099c1",
   "metadata": {},
   "outputs": [
    {
     "data": {
      "text/html": [
       "<div>\n",
       "<style scoped>\n",
       "    .dataframe tbody tr th:only-of-type {\n",
       "        vertical-align: middle;\n",
       "    }\n",
       "\n",
       "    .dataframe tbody tr th {\n",
       "        vertical-align: top;\n",
       "    }\n",
       "\n",
       "    .dataframe thead th {\n",
       "        text-align: right;\n",
       "    }\n",
       "</style>\n",
       "<table border=\"1\" class=\"dataframe\">\n",
       "  <thead>\n",
       "    <tr style=\"text-align: right;\">\n",
       "      <th></th>\n",
       "      <th>class</th>\n",
       "      <th>cap-shape</th>\n",
       "      <th>cap-surface</th>\n",
       "      <th>cap-color</th>\n",
       "      <th>bruises</th>\n",
       "      <th>odor</th>\n",
       "      <th>gill-attachment</th>\n",
       "      <th>gill-spacing</th>\n",
       "      <th>gill-size</th>\n",
       "      <th>gill-color</th>\n",
       "      <th>...</th>\n",
       "      <th>stalk-surf-below-ring</th>\n",
       "      <th>stalk-color-above-ring</th>\n",
       "      <th>stalk-color-below-ring</th>\n",
       "      <th>veil-type</th>\n",
       "      <th>veil-color</th>\n",
       "      <th>ring-number</th>\n",
       "      <th>ring-type</th>\n",
       "      <th>spore-color</th>\n",
       "      <th>population</th>\n",
       "      <th>habitat</th>\n",
       "    </tr>\n",
       "  </thead>\n",
       "  <tbody>\n",
       "    <tr>\n",
       "      <th>0</th>\n",
       "      <td>p</td>\n",
       "      <td>x</td>\n",
       "      <td>s</td>\n",
       "      <td>n</td>\n",
       "      <td>t</td>\n",
       "      <td>p</td>\n",
       "      <td>f</td>\n",
       "      <td>c</td>\n",
       "      <td>n</td>\n",
       "      <td>k</td>\n",
       "      <td>...</td>\n",
       "      <td>s</td>\n",
       "      <td>w</td>\n",
       "      <td>w</td>\n",
       "      <td>p</td>\n",
       "      <td>w</td>\n",
       "      <td>o</td>\n",
       "      <td>p</td>\n",
       "      <td>k</td>\n",
       "      <td>s</td>\n",
       "      <td>u</td>\n",
       "    </tr>\n",
       "    <tr>\n",
       "      <th>1</th>\n",
       "      <td>e</td>\n",
       "      <td>x</td>\n",
       "      <td>s</td>\n",
       "      <td>y</td>\n",
       "      <td>t</td>\n",
       "      <td>a</td>\n",
       "      <td>f</td>\n",
       "      <td>c</td>\n",
       "      <td>b</td>\n",
       "      <td>k</td>\n",
       "      <td>...</td>\n",
       "      <td>s</td>\n",
       "      <td>w</td>\n",
       "      <td>w</td>\n",
       "      <td>p</td>\n",
       "      <td>w</td>\n",
       "      <td>o</td>\n",
       "      <td>p</td>\n",
       "      <td>n</td>\n",
       "      <td>n</td>\n",
       "      <td>g</td>\n",
       "    </tr>\n",
       "  </tbody>\n",
       "</table>\n",
       "<p>2 rows × 23 columns</p>\n",
       "</div>"
      ],
      "text/plain": [
       "  class cap-shape cap-surface cap-color bruises odor gill-attachment  \\\n",
       "0     p         x           s         n       t    p               f   \n",
       "1     e         x           s         y       t    a               f   \n",
       "\n",
       "  gill-spacing gill-size gill-color  ... stalk-surf-below-ring  \\\n",
       "0            c         n          k  ...                     s   \n",
       "1            c         b          k  ...                     s   \n",
       "\n",
       "  stalk-color-above-ring stalk-color-below-ring veil-type veil-color  \\\n",
       "0                      w                      w         p          w   \n",
       "1                      w                      w         p          w   \n",
       "\n",
       "  ring-number ring-type spore-color population habitat  \n",
       "0           o         p           k          s       u  \n",
       "1           o         p           n          n       g  \n",
       "\n",
       "[2 rows x 23 columns]"
      ]
     },
     "metadata": {},
     "output_type": "display_data"
    },
    {
     "name": "stdout",
     "output_type": "stream",
     "text": [
      "(8124, 117)\n",
      "(8124,)\n",
      "[0 1 1]\n"
     ]
    },
    {
     "name": "stderr",
     "output_type": "stream",
     "text": [
      "C:\\Users\\vilde\\AppData\\Local\\Packages\\PythonSoftwareFoundation.Python.3.9_qbz5n2kfra8p0\\LocalCache\\local-packages\\Python39\\site-packages\\sklearn\\preprocessing\\_encoders.py:808: FutureWarning: `sparse` was renamed to `sparse_output` in version 1.2 and will be removed in 1.4. `sparse_output` is ignored unless you leave `sparse` to its default value.\n",
      "  warnings.warn(\n"
     ]
    }
   ],
   "source": [
    "col_names = ['class','cap-shape','cap-surface','cap-color','bruises','odor','gill-attachment',\n",
    "         'gill-spacing','gill-size','gill-color','stalk-shape','stalk-root',\n",
    "         'stalk-surf-above-ring','stalk-surf-below-ring','stalk-color-above-ring','stalk-color-below-ring',\n",
    "         'veil-type','veil-color','ring-number','ring-type','spore-color','population','habitat']\n",
    "mushrooms = pd.read_csv('data/UCI_Mushroom/agaricus-lepiota.data', header=None, names=col_names)\n",
    "display(mushrooms.head(2))\n",
    "\n",
    "\n",
    "labels = mushrooms['class']\n",
    "context = mushrooms.drop(columns='class')\n",
    "\n",
    "# transform to numerical encoding\n",
    "le = preprocessing.LabelEncoder()\n",
    "labels = le.fit_transform(labels)    # Binary labels\n",
    "\n",
    "context_le = context.copy()\n",
    "for colname in context.columns:\n",
    "    context_le[colname] = label_encoder.fit_transform(context[colname])\n",
    "\n",
    "# Transform context to one-hot encoding\n",
    "ohe = preprocessing.OneHotEncoder(sparse=False)\n",
    "context_ohe = ohe.fit_transform(context_le)#.toarray()\n",
    "\n",
    "labels = 1-labels\n",
    "print(context_ohe.shape)\n",
    "print(labels.shape)\n",
    "print(labels[:3])\n"
   ]
  },
  {
   "cell_type": "code",
   "execution_count": 169,
   "id": "b3796719",
   "metadata": {},
   "outputs": [],
   "source": [
    "agent_args0 = {\n",
    "        'model_class'    : Regression, \n",
    "        'model_name'     : 'test_rl',\n",
    "        'input_dim'      : 117+2,\n",
    "        'output_dim'     : 1,\n",
    "        'hl_type'        : nn.Linear,\n",
    "        'hl_units'       : 100,\n",
    "        'batch_size'     : 64,\n",
    "        'buffer_size'    : 4096,\n",
    "        'scheduler'      : [StepLR, 5000, 0.5],\n",
    "        'data_contexts'  : context_ohe,\n",
    "        'data_labels'    : labels,\n",
    "        'training_steps' : 64,\n",
    "        'n_samples'      : 1,\n",
    "        'epsilon'        : 0,\n",
    "        'learning_rate'  : 0.01\n",
    "}\n",
    "\n",
    "agent_args01 = {\n",
    "        'model_class'    : Regression, \n",
    "        'model_name'     : 'test_rl',\n",
    "        'input_dim'      : 117+2,\n",
    "        'output_dim'     : 1,\n",
    "        'hl_type'        : nn.Linear,\n",
    "        'hl_units'       : 100,\n",
    "        'batch_size'     : 64,\n",
    "        'buffer_size'    : 4096,\n",
    "        'scheduler'      : [StepLR, 5000, 0.5],\n",
    "        'data_contexts'  : context_ohe,\n",
    "        'data_labels'    : labels,\n",
    "        'training_steps' : 64,\n",
    "        'n_samples'      : 1,\n",
    "        'epsilon'        : 0.01,\n",
    "        'learning_rate'  : 0.01\n",
    "}\n",
    "\n",
    "agent_args05 = {\n",
    "        'model_class'    : Regression, \n",
    "        'model_name'     : 'test_rl',\n",
    "        'input_dim'      : 117+2,\n",
    "        'output_dim'     : 1,\n",
    "        'hl_type'        : nn.Linear,\n",
    "        'hl_units'       : 100,\n",
    "        'batch_size'     : 64,\n",
    "        'buffer_size'    : 4096,\n",
    "        'scheduler'      : [StepLR, 5000, 0.5],\n",
    "        'data_contexts'  : context_ohe,\n",
    "        'data_labels'    : labels,\n",
    "        'training_steps' : 64,\n",
    "        'n_samples'      : 1,\n",
    "        'epsilon'        : 0.05,\n",
    "        'learning_rate'  : 0.01\n",
    "}"
   ]
  },
  {
   "cell_type": "code",
   "execution_count": 170,
   "id": "93a66c66",
   "metadata": {},
   "outputs": [],
   "source": [
    "env0 = Environment(**agent_args0)\n",
    "env01 = Environment(**agent_args01)\n",
    "env05 = Environment(**agent_args05)\n",
    "loss0 = []\n",
    "loss01 = []\n",
    "loss05 = []"
   ]
  },
  {
   "cell_type": "code",
   "execution_count": 171,
   "id": "601b4182",
   "metadata": {},
   "outputs": [
    {
     "name": "stdout",
     "output_type": "stream",
     "text": [
      "0\n"
     ]
    },
    {
     "name": "stderr",
     "output_type": "stream",
     "text": [
      "C:\\Users\\vilde\\AppData\\Local\\Packages\\PythonSoftwareFoundation.Python.3.9_qbz5n2kfra8p0\\LocalCache\\local-packages\\Python39\\site-packages\\numpy\\core\\_methods.py:163: FutureWarning: The input object of type 'Tensor' is an array-like implementing one of the corresponding protocols (`__array__`, `__array_interface__` or `__array_struct__`); but not a sequence (or 0-D). In the future, this object will be coerced as if it was first converted using `np.array(obj)`. To retain the old behaviour, you have to either modify the type 'Tensor', or assign to an empty array created with `np.empty(correct_shape, dtype=object)`.\n",
      "  arr = asanyarray(a)\n",
      "C:\\Users\\vilde\\AppData\\Local\\Packages\\PythonSoftwareFoundation.Python.3.9_qbz5n2kfra8p0\\LocalCache\\local-packages\\Python39\\site-packages\\torch\\nn\\modules\\loss.py:536: UserWarning: Using a target size (torch.Size([64])) that is different to the input size (torch.Size([64, 1])). This will likely lead to incorrect results due to broadcasting. Please ensure they have the same size.\n",
      "  return F.mse_loss(input, target, reduction=self.reduction)\n"
     ]
    },
    {
     "name": "stdout",
     "output_type": "stream",
     "text": [
      "5000\n",
      "10000\n",
      "15000\n",
      "20000\n",
      "25000\n",
      "30000\n",
      "35000\n",
      "40000\n",
      "45000\n"
     ]
    }
   ],
   "source": [
    "for epoch in range(50000):\n",
    "    if epoch%5000==0:\n",
    "        print(epoch)\n",
    "    l0 = env0.new_mushroom()\n",
    "    loss0.append(np.float64(l0))\n",
    "    \n",
    "    l1 = env01.new_mushroom()\n",
    "    loss01.append(np.float64(l1))\n",
    "    \n",
    "    l5 = env05.new_mushroom()\n",
    "    loss05.append(np.float64(l5))"
   ]
  },
  {
   "cell_type": "code",
   "execution_count": 144,
   "id": "9c9ade3f",
   "metadata": {},
   "outputs": [
    {
     "data": {
      "image/png": "[encoded data removed]",
      "text/plain": [
       "<Figure size 432x288 with 1 Axes>"
      ]
     },
     "metadata": {
      "needs_background": "light"
     },
     "output_type": "display_data"
    }
   ],
   "source": [
    "# LabelEncoder, but p=0, e=1\n",
    "import matplotlib.pyplot as plt\n",
    "plt.plot(env0.cum_regret, label='Greedy', color='maroon')\n",
    "plt.plot(env01.cum_regret, label='Epsilon 1%', color='lightpink')\n",
    "plt.plot(env05.cum_regret, label='Epsilon 5%', color='darkviolet')\n",
    "plt.legend()\n",
    "plt.yscale('log')\n",
    "plt.show()"
   ]
  },
  {
   "cell_type": "code",
   "execution_count": 173,
   "id": "dcdcc75f",
   "metadata": {},
   "outputs": [
    {
     "data": {
      "image/png": "[encoded data removed]",
      "text/plain": [
       "<Figure size 432x288 with 1 Axes>"
      ]
     },
     "metadata": {
      "needs_background": "light"
     },
     "output_type": "display_data"
    }
   ],
   "source": [
    "# One-hot and p=0, e=1\n",
    "import matplotlib.pyplot as plt\n",
    "plt.plot(env0.cum_regret, label='Greedy', color='maroon')\n",
    "plt.plot(env01.cum_regret, label='Epsilon 1%', color='lightpink')\n",
    "plt.plot(env05.cum_regret, label='Epsilon 5%', color='darkviolet')\n",
    "plt.legend()\n",
    "plt.yscale('log')\n",
    "plt.show()"
   ]
  },
  {
   "cell_type": "code",
   "execution_count": 120,
   "id": "c0692ce9",
   "metadata": {},
   "outputs": [
    {
     "data": {
      "image/png": "[encoded data removed]",
      "text/plain": [
       "<Figure size 432x288 with 1 Axes>"
      ]
     },
     "metadata": {
      "needs_background": "light"
     },
     "output_type": "display_data"
    }
   ],
   "source": [
    "# LabelEncoder labels\n",
    "import matplotlib.pyplot as plt\n",
    "plt.plot(env0.cum_regret, label='Greedy', color='maroon')\n",
    "plt.plot(env01.cum_regret, label='Epsilon 1%', color='lightpink')\n",
    "plt.plot(env05.cum_regret, label='Epsilon 5%', color='darkviolet')\n",
    "plt.legend()\n",
    "plt.yscale('log')\n",
    "plt.show()"
   ]
  },
  {
   "cell_type": "code",
   "execution_count": 9,
   "id": "913bfacf",
   "metadata": {},
   "outputs": [
    {
     "data": {
      "image/png": "[encoded data removed]",
      "text/plain": [
       "<Figure size 432x288 with 1 Axes>"
      ]
     },
     "metadata": {
      "needs_background": "light"
     },
     "output_type": "display_data"
    }
   ],
   "source": [
    "# Alternative agent\n",
    "import matplotlib.pyplot as plt\n",
    "plt.plot(env.cum_regret)\n",
    "plt.yscale('log')\n",
    "plt.show()\n",
    "plt.plot(loss)\n",
    "plt.title(\"Loss\")\n",
    "plt.show()"
   ]
  },
  {
   "cell_type": "code",
   "execution_count": 16,
   "id": "f1bc5b2a",
   "metadata": {},
   "outputs": [
    {
     "name": "stdout",
     "output_type": "stream",
     "text": [
      "[0.25127777401339857, 0.2546993297766758, 0.24851185490689054, 0.24732049952266816, 0.24600373699744008, 0.24564280355699913, 0.2478366983004074, 0.25356550516458265, 0.25129687523627414, 0.24930590560751864]\n"
     ]
    },
    {
     "data": {
      "image/png": "[encoded data removed]",
      "text/plain": [
       "<Figure size 432x288 with 1 Axes>"
      ]
     },
     "metadata": {
      "needs_background": "light"
     },
     "output_type": "display_data"
    }
   ],
   "source": [
    "plt.plot(loss)\n",
    "print(loss[-10:])"
   ]
  },
  {
   "cell_type": "code",
   "execution_count": null,
   "id": "5cd6c6fe",
   "metadata": {},
   "outputs": [],
   "source": []
  }
 ],
 "metadata": {
  "kernelspec": {
   "display_name": "Python 3 (ipykernel)",
   "language": "python",
   "name": "python3"
  },
  "language_info": {
   "codemirror_mode": {
    "name": "ipython",
    "version": 3
   },
   "file_extension": ".py",
   "mimetype": "text/x-python",
   "name": "python",
   "nbconvert_exporter": "python",
   "pygments_lexer": "ipython3",
   "version": "3.9.13"
  }
 },
 "nbformat": 4,
 "nbformat_minor": 5
}
